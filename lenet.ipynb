{
  "cells": [
    {
      "cell_type": "markdown",
      "metadata": {
        "id": "view-in-github",
        "colab_type": "text"
      },
      "source": [
        "<a href=\"https://colab.research.google.com/github/marquezjorge/456-Camo/blob/main/lenet.ipynb\" target=\"_parent\"><img src=\"https://colab.research.google.com/assets/colab-badge.svg\" alt=\"Open In Colab\"/></a>"
      ]
    },
    {
      "cell_type": "markdown",
      "metadata": {
        "id": "oNmRw3fk_8ac"
      },
      "source": [
        "#Importing the libraries"
      ]
    },
    {
      "cell_type": "code",
      "execution_count": null,
      "metadata": {
        "id": "fxC7s8vE_4o1"
      },
      "outputs": [],
      "source": [
        "import tensorflow as tf\n",
        "import numpy as np\n",
        "import os\n",
        "import sklearn\n",
        "import matplotlib.pyplot as plt \n",
        "import matplotlib.image as mpimg\n",
        "import cv2\n",
        "from sklearn.model_selection import train_test_split\n",
        "from tensorflow.keras.utils import to_categorical\n",
        "import keras\n",
        "from google.colab import drive\n"
      ]
    },
    {
      "cell_type": "code",
      "execution_count": null,
      "metadata": {
        "id": "yzdWWhYh9pcL"
      },
      "outputs": [],
      "source": [
        "drive.mount('/content/gdrive')\n",
        "!unzip gdrive/My\\ Drive/CECS456/camo3.zip"
      ]
    },
    {
      "cell_type": "code",
      "execution_count": null,
      "metadata": {
        "id": "zcKXjvv99qQN"
      },
      "outputs": [],
      "source": [
        "x = [] # list for data\n",
        "y = [] # list for labels\n",
        "rfoldername = \"camo3\" # root foldername\n",
        "cfoldername = [\"Background\", \"Camouflaged\", \"Non-camouflaged\"] # class foldernames\n",
        "# loop for integer encoding \n",
        "for i in range(0,3):\n",
        "  # iterate through each image in each folder\n",
        "  for imgname in os.listdir(rfoldername+'/'+cfoldername[i]):\n",
        "    # read image from a file into array\n",
        "    img = mpimg.imread(rfoldername+'/'+cfoldername[i]+'/'+imgname)\n",
        "    # shrinking the image tolenet input size\n",
        "    rsized_img = cv2.resize(img, (32, 32), interpolation=cv2.INTER_AREA)\n",
        "    # matrix of all images\n",
        "    x.append(rsized_img) \n",
        "    # appending label number to list \n",
        "    y.append(i) # 0 - Background, 1 - Camouflaged, 2 - Non-camouflaged  \n",
        "# change data and labels to numpy arrays\n",
        "x = np.array(x)\n",
        "y = np.array(y)"
      ]
    },
    {
      "cell_type": "code",
      "execution_count": null,
      "metadata": {
        "id": "4kSxbxHl96p-"
      },
      "outputs": [],
      "source": [
        "# splitting dataset into the training set, validation set and test set\n",
        "# all data split 70:15:15\n",
        "x_train, x_test, y_train, y_test = train_test_split(x,y,test_size = 0.15, random_state = 26)\n",
        "x_train, x_valid, y_train, y_valid = train_test_split(x_train, y_train,test_size=0.20, random_state= 26)"
      ]
    },
    {
      "cell_type": "code",
      "execution_count": null,
      "metadata": {
        "id": "pcJJe-cwhNK1"
      },
      "outputs": [],
      "source": [
        "# coverting labels from integer encoding to one-hot encoding\n",
        "y_train = to_categorical(y_train, dtype =\"uint8\")\n",
        "y_test = to_categorical(y_test, dtype =\"uint8\")\n",
        "y_valid = to_categorical(y_valid, dtype =\"uint8\")"
      ]
    },
    {
      "cell_type": "code",
      "execution_count": null,
      "metadata": {
        "id": "AUuJx1OXiqoW"
      },
      "outputs": [],
      "source": [
        "# normalize data\n",
        "x_train = x_train /255\n",
        "x_test = x_test /255\n",
        "x_valid = x_valid /255"
      ]
    },
    {
      "cell_type": "code",
      "execution_count": null,
      "metadata": {
        "id": "-WcH6d8TKoK1"
      },
      "outputs": [],
      "source": [
        "# building the model\n",
        "model = keras.Sequential([\n",
        "    # 3 convolutional layers\n",
        "    # 2 subsampling layers\n",
        "    # 2 dropout layers\n",
        "    keras.layers.Conv2D(filters=6, kernel_size=5, activation='relu', padding='same', input_shape=(32, 32, 3)),\n",
        "    \n",
        "    keras.layers.MaxPool2D(pool_size=2, strides=2),\n",
        "    keras.layers.Dropout(.2, input_shape=(2,)),\n",
        "\n",
        "    keras.layers.Conv2D(filters=64, kernel_size=5,activation='relu'),\n",
        "   \n",
        "    keras.layers.MaxPool2D(pool_size=2, strides=2),\n",
        "    keras.layers.Dropout(.2, input_shape=(2,)),\n",
        "\n",
        "    keras.layers.Conv2D(filters=128, kernel_size=5,activation='relu'),\n",
        "\n",
        "    keras.layers.Flatten(),\n",
        "    # 2 fully connected layers\n",
        "    keras.layers.Dense(72, activation='relu'), \n",
        "    keras.layers.Dense(36, activation='relu'),\n",
        "    # output layer \n",
        "    keras.layers.Dense(3, activation='softmax')\n",
        "])"
      ]
    },
    {
      "cell_type": "code",
      "execution_count": null,
      "metadata": {
        "id": "pmmhWNa0KytM"
      },
      "outputs": [],
      "source": [
        "# compiling the model\n",
        "model.compile(loss='categorical_crossentropy', \n",
        "              optimizer='adam',\n",
        "               metrics=[\"accuracy\"])"
      ]
    },
    {
      "cell_type": "code",
      "execution_count": null,
      "metadata": {
        "id": "Lhx7GnraK2fK"
      },
      "outputs": [],
      "source": [
        "# training the model\n",
        "history = model.fit(x_train, y_train, batch_size= 16, \n",
        "          epochs=10, validation_data=(x_valid, y_valid))"
      ]
    },
    {
      "cell_type": "code",
      "execution_count": null,
      "metadata": {
        "id": "M42yU8tzLAEc"
      },
      "outputs": [],
      "source": [
        "# evaluation\n",
        "test_accuracy = model.evaluate(x_test, y_test)\n",
        "print('Total Loss:', test_accuracy[0])\n",
        "print('Accuracy Testing:', test_accuracy[1])"
      ]
    },
    {
      "cell_type": "code",
      "execution_count": null,
      "metadata": {
        "id": "rA9E06WKhM9Y"
      },
      "outputs": [],
      "source": [
        "print(history.history.keys())\n",
        "# summarize history for accuracy\n",
        "plt.plot(history.history['accuracy'])\n",
        "plt.plot(history.history['val_accuracy'])\n",
        "plt.title('model accuracy')\n",
        "plt.ylabel('accuracy')\n",
        "plt.xlabel('epoch')\n",
        "plt.legend(['train', 'valid'], loc='upper left')\n",
        "plt.show()\n",
        "# summarize history for loss\n",
        "plt.plot(history.history['loss'])\n",
        "plt.plot(history.history['val_loss'])\n",
        "plt.title('model loss')\n",
        "plt.ylabel('loss')\n",
        "plt.xlabel('epoch')\n",
        "plt.legend(['train', 'valid'], loc='upper left')\n",
        "plt.show()"
      ]
    }
  ],
  "metadata": {
    "colab": {
      "provenance": [],
      "include_colab_link": true
    },
    "kernelspec": {
      "display_name": "Python 3",
      "name": "python3"
    },
    "language_info": {
      "name": "python"
    }
  },
  "nbformat": 4,
  "nbformat_minor": 0
}